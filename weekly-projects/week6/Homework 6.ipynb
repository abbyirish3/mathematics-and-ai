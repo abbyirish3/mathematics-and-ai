{
 "cells": [
  {
   "cell_type": "code",
   "execution_count": 87,
   "id": "7e918709",
   "metadata": {},
   "outputs": [],
   "source": [
    "# Homework 6 (due 08/08/2024)\n",
    "# Abby Irish"
   ]
  },
  {
   "cell_type": "markdown",
   "id": "b444be24-24ae-496b-92a7-5cf8abc38e05",
   "metadata": {},
   "source": [
    "# Neural networks and computer vision\n",
    "\n",
    "### Objective\n",
    "In this week's project, you will learn to train, validate, and test a neural network. You will explore how inputs change through feature extraction in convolutional neural networks (CNNs), and you will interpret the trained filters by the network.\n",
    "\n",
    "#### Dataset\n",
    "\n",
    "You will use the MNIST dataset, a standard dataset of handwritten digits, which is widely used for training and testing image processing systems.\n",
    "\n",
    "#### Instructions\n",
    "\n",
    "The code example below demonstrates how to define, train, validate, and test a CNN. The training and test accuracy after each completed epoch are shown after a completed\n",
    "\n",
    "**1. Explore a working example**\n",
    "1. Open `example.ipynb` and read the code.\n",
    "2. Consult the pytorch documentation to learn what the arguments of the various employed pytorch functions mean.\n",
    "3. Run the code.\n",
    "4. Replace SGD with Adam in the training process. Then run the code again.\n",
    "5. Save the output figures that show training and validation accuracy as a function of the number of epochs in your file system.\n",
    "\n",
    "**2. Build a network**\n",
    "Create your own working example. (You are allowed to copy any amount of code from `example.ipynb`.) Your CNN should be different from the CNN in the working example in the following ways:\n",
    "1. The new CNN should have three convolutional layers instead of two. The first layer creates 32 channels. The second layer creates 64 channels, and the third layer creates 128 channels.\n",
    "2. The pooling layer after the third layer should not employ any padding.\n",
    "3. The last hidden layer should have 512 neurons.\n",
    "4. For all layers except the output layer, the activation function should be a ReLU (use `torch.nn.ReLU`).\n",
    "\n",
    "**3. Train and evaluate a neural network**\n",
    "1. Train the neural network that you have constructed in the previous step. How have the upgrades with respect to the CNN in `example.ipynb` affected the CNN's training time?\n",
    "2. Test the neural network. How have the upgrades with respect to the CNN in `example.ipynb` affected the CNN's validation accuracy?\n",
    "3. Identify the number $k$ of training epochs that gives you a good tradeoff between training time and validation accuracy.\n",
    "4. Run your code again using $k$ epochs during training. Time the training (e.g. using the python library `time`).\n",
    "\n",
    "**4. Model validation and model selection**\n",
    "1. Use the validation set approach to identify the best number $c$ of channels in the first convolutional layer (consider $c\\in\\{2,15\\}$).\n",
    "2. Update your neural network architecture so that the first convolutional layer has $c$ channels.\n",
    "\n",
    "**5. Visualizing feature extraction**\n",
    "1. Use the function `plot_mapped_features` to view an input image and the corresponding first channel of the hidden state for each feature-extraction layer (i.e., each convolution layer and each pooling layer).\n",
    "2. Update the function so that it shows all channels instead of just one.\n",
    "3. Comment on where you observe differences between the channels within a layer.\n",
    "\n",
    "**6. Visualizing and interpreting filters**\n",
    "1. Use the function `plot_filters` to view the trained filters of the first convolutional layer.\n",
    "2. Identify the filters that perform blurring, sharpening, or horizontal or vertical edge detection.\n",
    "\n",
    "**7. Comparison to logistic regression**\n",
    "1. Construct and run a pipeline for multiclass logistic regression of the MNIST dataset using sklearn.\n",
    "2. Comment on how the training time and test accuracy of logistic regression compare to the CNN.\n",
    "3. Now run multiclass logistic regression on the MNIST data set using one of the hidden states of the CNN (i.e., $\\vec{x}^{(2)}$, $\\vec{x}^{(3)}$, ..., $\\vec{x}^{(7)}$) as inputs. Which set of inputs yields the best classification results?"
   ]
  },
  {
   "cell_type": "code",
   "execution_count": 2,
   "id": "0e15d290-c0b4-4ec9-8db4-908d3c4d1374",
   "metadata": {},
   "outputs": [],
   "source": [
    "# import packages\n",
    "import torch\n",
    "import torch.nn as nn\n",
    "import torch.optim as optim\n",
    "import torchvision\n",
    "import torchvision.transforms as transforms\n",
    "from torch.utils.data import DataLoader, random_split\n",
    "import matplotlib.pyplot as plt\n",
    "import numpy as np\n",
    "import time"
   ]
  },
  {
   "cell_type": "markdown",
   "id": "097d4fd9",
   "metadata": {},
   "source": [
    "## Part 2: Build a neural network"
   ]
  },
  {
   "cell_type": "code",
   "execution_count": 3,
   "id": "691e2fe0",
   "metadata": {},
   "outputs": [],
   "source": [
    "# Load and preprocess the MNIST dataset\n",
    "\n",
    "# Define an array transformation that transforms the images to tensor format \n",
    "# and normalizes the pixel values to the range [-1, 1]\n",
    "transform = transforms.Compose([\n",
    "    transforms.ToTensor(),\n",
    "    transforms.Normalize((0.5,), (0.5,))\n",
    "])\n",
    "\n",
    "# Download and load the training and test datasets\n",
    "train_dataset = torchvision.datasets.MNIST(root='./data', train=True, \n",
    "    download=True, transform=transform)\n",
    "test_dataset = torchvision.datasets.MNIST(root='./data', train=False, \n",
    "    download=True, transform=transform)\n",
    "\n",
    "# Split the training dataset into a training set and a validation set\n",
    "train_set, val_set = random_split(train_dataset, [50000, 10000])\n",
    "\n",
    "# Create data loaders for the training, validation, and test sets\n",
    "# A DataLoader in PyTorch is an object that simplifies and automates\n",
    "# batching, shuffling, and loading data for model training and evaluation. \n",
    "train_loader = DataLoader(train_set, batch_size=128, shuffle=True)\n",
    "val_loader = DataLoader(val_set, batch_size=128, shuffle=False)\n",
    "test_loader = DataLoader(test_dataset, batch_size=128, shuffle=False)"
   ]
  },
  {
   "cell_type": "code",
   "execution_count": 4,
   "id": "7c910e99",
   "metadata": {},
   "outputs": [],
   "source": [
    "# **2. Build a network**\n",
    "\n",
    "# Create your own working example. (You are allowed to copy any amount of code from `example.ipynb`.) \n",
    "    #  Your CNN should be different from the CNN in the working example in the following ways:\n",
    "# 1. The new CNN should have three convolutional layers instead of two. The first layer creates 32 channels. \n",
    "    # The second layer creates 64 channels, and the third layer creates 128 channels.\n",
    "# 2. The pooling layer after the third layer should not employ any padding.\n",
    "# 3. The last hidden layer should have 512 neurons.\n",
    "# 4. For all layers except the output layer, the activation function should be a ReLU (use `torch.nn.ReLU`).\n",
    "\n",
    "# Define CNN architecture\n",
    "\n",
    "class CNN(nn.Module):\n",
    "    \"\"\"\n",
    "    A Convolutional Neural Network (CNN) for classifying MNIST images.\n",
    "    \n",
    "    The network consists of a feature extraction architecture and a \n",
    "    classification architecture. The feature-extraction architecture includes\n",
    "    two convolutional layers. Each of the convolutional layers is followed by \n",
    "    a sigmoid activation and a max pooling layer. The classification \n",
    "    architecture includes two fully connected layers for classification.\n",
    "\n",
    "    Attributes:\n",
    "    conv1 : torch.nn.Conv2d\n",
    "        The first convolutional layer\n",
    "    conv2 : torch.nn.Conv2d\n",
    "        The second convolutional layer\n",
    "    conv3: torch.nn.Conv2d\n",
    "        The third convolutional layer\n",
    "    activation : torch.nn activation function\n",
    "        Activation function used for input and hidden layers\n",
    "    pool : torch.nn.MaxPool2d\n",
    "        The pooling layer\n",
    "    fc1 : torch.nn.Linear\n",
    "        The first fully connected layer\n",
    "    fc2 : torch.nn.Linear\n",
    "        The second fully connected layer\n",
    "\n",
    "    Methods:\n",
    "    __init__(self): \n",
    "        This function creates an instance of this class.\n",
    "    forward(self, x):\n",
    "        Performs a forward pass for an input x.\n",
    "    \"\"\"\n",
    "\n",
    "    def __init__(self):\n",
    "        \"\"\"\n",
    "        Initialize the CNN model by defining its layers.\n",
    "        \"\"\"\n",
    "        # Create an instance of the parent class `nn.Module`\n",
    "        super(CNN, self).__init__()\n",
    "        \n",
    "        # Define the first convolutional layer. It uses a 32 filters of size \n",
    "        # 3-by-3 to turn a 1-channel image into an 32-channel image.         \n",
    "        self.conv1 = nn.Conv2d(1, 32, kernel_size=3, padding=1)\n",
    "        \n",
    "        # Define the second convolutional layer. It uses 64 filters of size \n",
    "        # 3-by-3 to turn a 32-channel image into an 16-channel image.\n",
    "        self.conv2 = nn.Conv2d(32, 64, kernel_size=3, padding=1)\n",
    "\n",
    "        # Define the third convolutional layer. It uses 128 filters of size \n",
    "        # 3-by-3 to turn a 68-channel image into an 128-channel image.\n",
    "        self.conv3 = nn.Conv2d(64, 128, kernel_size=3, padding=1)\n",
    "\n",
    "        # Define the activation function\n",
    "        self.activation = nn.ReLU()\n",
    "\n",
    "        # Define a pooling layer\n",
    "        self.pool = nn.MaxPool2d(kernel_size=2, stride=2)\n",
    "\n",
    "        # Define a fully connected layer hidden with 512 nodes\n",
    "        # Inputs are num_channels in previous layer x image height x image width\n",
    "        self.fc1 = nn.Linear(128 * 3 * 3, 512)\n",
    "\n",
    "        # Define the output layer with 10 nodes\n",
    "        self.fc2 = nn.Linear(512, 10)\n",
    "        \n",
    "        \n",
    "    def forward(self, x):\n",
    "        \"\"\"\n",
    "        Define the forward pass of the CNN.\n",
    "\n",
    "        Parameters:\n",
    "        x : torch.Tensor\n",
    "            The input tensor containing the image batch.\n",
    "\n",
    "        Returns:\n",
    "        torch.Tensor\n",
    "            The output tensor containing the class scores for each image.\n",
    "        \"\"\"\n",
    "        # Pass the input through each convolutional layer, applying activation after each one\n",
    "        x = self.activation(self.conv1(x))\n",
    "        x = self.pool(x)\n",
    "        x = self.activation(self.conv2(x))\n",
    "        x = self.pool(x)     \n",
    "        x = self.activation(self.conv3(x))\n",
    "        x = self.pool(x)  \n",
    "\n",
    "        # Change the shape of x into a 1d array\n",
    "        x = x.view(-1, 128 * 3 * 3)\n",
    "\n",
    "        # Pass the input through the full connected hidden layer, then apply activation\n",
    "        x = self.activation(self.fc1(x))\n",
    "        # Pass the input through the last layer\n",
    "        x = self.fc2(x)\n",
    "        \n",
    "        return x"
   ]
  },
  {
   "cell_type": "markdown",
   "id": "2e3e3ac1",
   "metadata": {},
   "source": [
    "## Part 3: Train and test the neural network\n",
    "\n",
    "1. Train the neural network that you have constructed in the previous step. "
   ]
  },
  {
   "cell_type": "code",
   "execution_count": 5,
   "id": "da174de3",
   "metadata": {},
   "outputs": [],
   "source": [
    "# Define training pipeline including validation after each epoch\n",
    "\n",
    "def train_model(model, train_loader, val_loader, criterion, optimizer, epochs=10):\n",
    "    \"\"\"\n",
    "    Train the CNN model.\n",
    "\n",
    "    Parameters:\n",
    "    model : torch.nn.Module\n",
    "        The CNN model to be trained.\n",
    "    train_loader : torch.utils.data.DataLoader\n",
    "        The data loader for the training set.\n",
    "    val_loader : torch.utils.data.DataLoader\n",
    "        The data loader for the validation set.\n",
    "    criterion : torch.nn.modules.loss._Loss\n",
    "        The loss function to be used.\n",
    "    optimizer : torch.optim.Optimizer\n",
    "        The optimizer to be used.\n",
    "    epochs : int\n",
    "        The number of epochs for training.\n",
    "\n",
    "    Returns:\n",
    "    tuple\n",
    "        A tuple containing lists of training loss, validation loss, training accuracy, and validation accuracy.\n",
    "    \"\"\"\n",
    "    # Initialize lists to store training and validation loss\n",
    "    train_loss, val_loss = [], []\n",
    "    # Initialize lists to store training and validation and accuracy\n",
    "    train_acc, val_acc = [], []\n",
    "\n",
    "    # Loop over the number of epochs\n",
    "    for epoch in range(epochs):\n",
    "        # Set the model to training mode\n",
    "        model.train()  \n",
    "        # Initialize the running loss for the epoch\n",
    "        running_loss = 0.0  \n",
    "        # Initialize counters for correct predictions and total samples\n",
    "        correct, total = 0, 0  \n",
    "\n",
    "        # Learning algorithm is SGD with minibatch. Iterating over the dataload\n",
    "        # returns images and labels in batches.\n",
    "        \n",
    "        # Iterate over batches of training data\n",
    "        for images, labels in train_loader:\n",
    "            # Zero the gradients to prevent accumulation from previous iterations\n",
    "            optimizer.zero_grad()  \n",
    "            # Perform a forward pass through the model to get predictions\n",
    "            outputs = model(images)  \n",
    "            # Compute the loss between predictions and true labels\n",
    "            loss = criterion(outputs, labels)  \n",
    "            # Perform a backward pass to compute gradients via backpropagation\n",
    "            loss.backward()  \n",
    "            # Update model parameters based on the computed gradients\n",
    "            optimizer.step()  \n",
    "\n",
    "            # Add up the loss\n",
    "            running_loss += loss.item()  \n",
    "            # Get the predicted class with the highest score\n",
    "            _, predicted = torch.max(outputs.data, 1)  \n",
    "            # Update the total number of samples\n",
    "            total += labels.size(0)  \n",
    "            # Update the number of correct predictions\n",
    "            correct += (predicted == labels).sum().item()  \n",
    "\n",
    "        # Compute and store the average training loss for the epoch\n",
    "        train_loss.append(running_loss / len(train_loader))  \n",
    "        # Compute and store the training accuracy for the epoch\n",
    "        train_acc.append(100 * correct / total)  \n",
    "\n",
    "        # Set the model to evaluation mode\n",
    "        model.eval()  \n",
    "        # Initialize the running loss for validation\n",
    "        val_running_loss = 0.0  \n",
    "        #  Initialize counters for correct predictions and total samples in validation\n",
    "        val_correct, val_total = 0, 0  \n",
    "        \n",
    "        # Disable gradient calculation for validation to save memory and computation\n",
    "        with torch.no_grad():\n",
    "            # Iterate over batches of validation data\n",
    "            for images, labels in val_loader:\n",
    "                # Perform a forward pass through the model to get predictions\n",
    "                outputs = model(images)  \n",
    "                # Compute the loss between predictions and true labels\n",
    "                loss = criterion(outputs, labels)  \n",
    "                # Add up the loss\n",
    "                val_running_loss += loss.item()  \n",
    "                # Get the predicted class with the highest score\n",
    "                _, predicted = torch.max(outputs.data, 1)  \n",
    "                # Update the total number of samples in validation\n",
    "                val_total += labels.size(0)  \n",
    "                # Update the number of correct predictions in validation\n",
    "                val_correct += (predicted == labels).sum().item()  \n",
    "\n",
    "        # Compute and store the average validation loss for the epoch\n",
    "        val_loss.append(val_running_loss / len(val_loader))\n",
    "        # Compute and store the validation accuracy for the epoch\n",
    "        val_acc.append(100 * val_correct / val_total)  \n",
    "        \n",
    "        # Print the results for the current epoch, including training and validation loss and accuracy\n",
    "        print(f'Epoch [{epoch+1}/{epochs}], Train Loss: {running_loss / len(train_loader):.4f}, '\n",
    "              f'Validation Loss: {val_running_loss / len(val_loader):.4f}, '\n",
    "              f'Train Acc: {100 * correct / total:.2f}%, Val Acc: {100 * val_correct / val_total:.2f}%')\n",
    "        \n",
    "    # Return the lists of training and validation loss and accuracy\n",
    "    return train_loss, val_loss, train_acc, val_acc  "
   ]
  },
  {
   "cell_type": "code",
   "execution_count": 6,
   "id": "2158bf6b",
   "metadata": {},
   "outputs": [
    {
     "name": "stdout",
     "output_type": "stream",
     "text": [
      "Epoch [1/10], Train Loss: 0.1992, Validation Loss: 0.0716, Train Acc: 93.81%, Val Acc: 97.64%\n",
      "Epoch [2/10], Train Loss: 0.0480, Validation Loss: 0.0504, Train Acc: 98.47%, Val Acc: 98.53%\n",
      "Epoch [3/10], Train Loss: 0.0330, Validation Loss: 0.0575, Train Acc: 98.95%, Val Acc: 98.47%\n",
      "Epoch [4/10], Train Loss: 0.0245, Validation Loss: 0.0349, Train Acc: 99.16%, Val Acc: 99.02%\n",
      "Epoch [5/10], Train Loss: 0.0198, Validation Loss: 0.0385, Train Acc: 99.31%, Val Acc: 98.90%\n",
      "Epoch [6/10], Train Loss: 0.0180, Validation Loss: 0.0340, Train Acc: 99.46%, Val Acc: 98.95%\n",
      "Epoch [7/10], Train Loss: 0.0120, Validation Loss: 0.0391, Train Acc: 99.60%, Val Acc: 99.06%\n",
      "Epoch [8/10], Train Loss: 0.0111, Validation Loss: 0.0325, Train Acc: 99.63%, Val Acc: 99.18%\n",
      "Epoch [9/10], Train Loss: 0.0109, Validation Loss: 0.0422, Train Acc: 99.62%, Val Acc: 98.99%\n",
      "Epoch [10/10], Train Loss: 0.0105, Validation Loss: 0.0329, Train Acc: 99.64%, Val Acc: 99.25%\n"
     ]
    },
    {
     "data": {
      "image/png": "[encoded data removed]",
      "text/plain": [
       "<Figure size 1200x400 with 2 Axes>"
      ]
     },
     "metadata": {},
     "output_type": "display_data"
    }
   ],
   "source": [
    "# Create model\n",
    "model = CNN()\n",
    "\n",
    "# Set loss function\n",
    "criterion = nn.CrossEntropyLoss()\n",
    "\n",
    "# Set training algorithm\n",
    "optimizer = optim.Adam(model.parameters(), lr=0.001)\n",
    "\n",
    "# Train model\n",
    "train_loss, val_loss, train_acc, val_acc = train_model(model, train_loader, val_loader, criterion, optimizer)\n",
    "\n",
    "# Plot training and validation accuracy\n",
    "plt.figure(figsize=(12, 4))\n",
    "plt.subplot(1, 2, 1)\n",
    "plt.plot(train_acc, label='Training Accuracy')\n",
    "plt.plot(val_acc, label='Validation Accuracy')\n",
    "plt.xlabel('Epochs')\n",
    "plt.ylabel('Accuracy')\n",
    "plt.legend()\n",
    "\n",
    "# Plot training and validation loss\n",
    "plt.subplot(1, 2, 2)\n",
    "plt.plot(train_loss, label='Training Loss')\n",
    "plt.plot(val_loss, label='Validation Loss')\n",
    "plt.xlabel('Epochs')\n",
    "plt.ylabel('Loss')\n",
    "plt.legend()\n",
    "\n",
    "plt.show()"
   ]
  },
  {
   "cell_type": "markdown",
   "id": "57a4ee59",
   "metadata": {},
   "source": [
    "How have the upgrades with respect to the CNN in `example.ipynb` affected the CNN's training time?\n",
    "\n",
    "They have greatly increased the CNN's training time. It took 9m 31.4s to run through 10 epochs, while in the example it took only 3m 25.0s."
   ]
  },
  {
   "cell_type": "markdown",
   "id": "fca10632",
   "metadata": {},
   "source": [
    "2. Test the neural network. "
   ]
  },
  {
   "cell_type": "code",
   "execution_count": null,
   "id": "6bd4c9d6",
   "metadata": {},
   "outputs": [
    {
     "name": "stdout",
     "output_type": "stream",
     "text": [
      "Test Accuracy: 99.0%\n"
     ]
    }
   ],
   "source": [
    "# Evaluate the model on test set\n",
    "\n",
    "model.eval()\n",
    "test_correct, test_total = 0, 0\n",
    "with torch.no_grad():\n",
    "    for images, labels in test_loader:\n",
    "        outputs = model(images)\n",
    "        _, predicted = torch.max(outputs.data, 1)\n",
    "        test_total += labels.size(0)\n",
    "        test_correct += (predicted == labels).sum().item()\n",
    "\n",
    "test_acc = 100 * test_correct / test_total\n",
    "print(f'Test Accuracy: {test_acc}%')"
   ]
  },
  {
   "cell_type": "markdown",
   "id": "b71c4ff0",
   "metadata": {},
   "source": [
    "How have the upgrades with respect to the CNN in `example.ipynb` affected the CNN's validation accuracy?\n",
    "The upgrades have increased the CNN's validation accuracy compared to the example one."
   ]
  },
  {
   "cell_type": "markdown",
   "id": "140f44a5",
   "metadata": {},
   "source": [
    "3. Identify the number $k$ of training epochs that gives you a good tradeoff between training time and validation accuracy.\n",
    "4. Run your code again using $k$ epochs during training. Time the training (e.g. using the python library `time`)."
   ]
  },
  {
   "cell_type": "code",
   "execution_count": null,
   "id": "1c2a1f6c",
   "metadata": {},
   "outputs": [
    {
     "name": "stdout",
     "output_type": "stream",
     "text": [
      "Epoch [1/5], Train Loss: 0.0092, Validation Loss: 0.0504, Train Acc: 99.68%, Val Acc: 98.79%\n",
      "Epoch [2/5], Train Loss: 0.0082, Validation Loss: 0.0381, Train Acc: 99.70%, Val Acc: 99.17%\n",
      "Epoch [3/5], Train Loss: 0.0077, Validation Loss: 0.0544, Train Acc: 99.76%, Val Acc: 98.85%\n",
      "Epoch [4/5], Train Loss: 0.0063, Validation Loss: 0.0442, Train Acc: 99.77%, Val Acc: 99.11%\n",
      "Epoch [5/5], Train Loss: 0.0083, Validation Loss: 0.0549, Train Acc: 99.75%, Val Acc: 98.75%\n",
      "Training completed in 349.8638241291046 seconds for 5 epochs\n",
      "Final Validation Accuracy: 98.75%\n"
     ]
    }
   ],
   "source": [
    "# based on the plot above, the best value of k to get a good tradeoff is about 4, \n",
    "# because after this number the validation accuracy starts to decrease again.\n",
    "k = 4\n",
    "\n",
    "# run code again and time the training:\n",
    "start_time = time.time()\n",
    "train_loss, val_loss, train_acc, val_acc = train_model(model, train_loader, val_loader, criterion, optimizer, epochs=k)\n",
    "end_time = time.time()\n",
    "\n",
    "training_duration = end_time - start_time\n",
    "\n",
    "print(f'Training completed in {training_duration} seconds for {k} epochs')\n",
    "print(f'Final Validation Accuracy: {val_acc[-1]}%')"
   ]
  },
  {
   "cell_type": "markdown",
   "id": "b79a767e",
   "metadata": {},
   "source": [
    "## Part 4: Model validation and model selection\n",
    "1. Use the validation set approach to identify the best number $c$ of channels in the first convolutional layer (consider $c\\in\\{2,15\\}$)."
   ]
  },
  {
   "cell_type": "code",
   "execution_count": null,
   "id": "449e8d75",
   "metadata": {},
   "outputs": [],
   "source": [
    "# Define the function to train and validate the model for a given number of channels\n",
    "class CNN(nn.Module):\n",
    "\n",
    "    def __init__(self, c):\n",
    "        super(CNN, self).__init__()\n",
    "        self.conv1 = nn.Conv2d(1, c, kernel_size=3, padding=1)\n",
    "        self.conv2 = nn.Conv2d(c, 64, kernel_size=3, padding=1)\n",
    "        self.conv3 = nn.Conv2d(64, 128, kernel_size=3, padding=1)\n",
    "        self.activation = nn.ReLU()\n",
    "        self.pool = nn.MaxPool2d(kernel_size=2, stride=2)\n",
    "        self.fc1 = nn.Linear(128 * 3 * 3, 512)\n",
    "        self.fc2 = nn.Linear(512, 10)\n",
    "        \n",
    "    def forward(self, x):\n",
    "        x = self.activation(self.conv1(x))\n",
    "        x = self.pool(x)\n",
    "        x = self.activation(self.conv2(x))\n",
    "        x = self.pool(x)     \n",
    "        x = self.activation(self.conv3(x))\n",
    "        x = self.pool(x)  \n",
    "\n",
    "        # Change the shape of x into a 1d array\n",
    "        x = x.view(-1, 128 * 3 * 3)\n",
    "\n",
    "        # Pass the input through the full connected hidden layer, then apply activation\n",
    "        x = self.activation(self.fc1(x))\n",
    "        # Pass the input through the last layer\n",
    "        x = self.fc2(x)\n",
    "        \n",
    "        return x\n",
    "\n",
    "def validate_model_for_channels(c, train_loader, val_loader, criterion, optimizer, epochs=5):\n",
    "    model = CNN(c)\n",
    "    optimizer = optim.Adam(model.parameters(), lr=0.001)\n",
    "    \n",
    "    train_loss, val_loss, train_acc, val_acc = train_model(model, train_loader, val_loader, criterion, optimizer, epochs)\n",
    "    return val_acc[-1]  # Return the validation accuracy of the last epoch\n",
    "\n",
    "# Initialize the range of c values and an empty list to store validation accuracies\n",
    "c_values = range(2, 16)\n",
    "val_accuracies = []\n",
    "\n",
    "# Criterion and optimizer can be reused across different c values\n",
    "criterion = nn.CrossEntropyLoss()\n",
    "\n",
    "# Loop over different c values and evaluate the model\n",
    "for c in c_values:\n",
    "    val_accuracy = validate_model_for_channels(c, train_loader, val_loader, criterion, optimizer, epochs=4)\n",
    "    val_accuracies.append((c, val_accuracy))\n",
    "    print(f'Channels: {c}, Validation Accuracy: {val_accuracy}%')\n",
    "\n",
    "# Find the best c value\n",
    "best_c, best_val_acc = max(val_accuracies, key=lambda x: x[1])\n",
    "print(f'Best number of channels in the first convolutional layer: {best_c} with Validation Accuracy: {best_val_acc}%')"
   ]
  },
  {
   "cell_type": "markdown",
   "id": "1ca7ce4c",
   "metadata": {},
   "source": [
    "The best number of channels in the first convolutional layer is 9."
   ]
  },
  {
   "cell_type": "markdown",
   "id": "477e4cc3",
   "metadata": {},
   "source": [
    "2. Update your neural network architecture so that the first convolutional layer has $c$ channels."
   ]
  },
  {
   "cell_type": "code",
   "execution_count": 108,
   "id": "8a640b21",
   "metadata": {},
   "outputs": [
    {
     "name": "stdout",
     "output_type": "stream",
     "text": [
      "Epoch [1/5], Train Loss: 0.2197, Validation Loss: 0.0717, Train Acc: 93.28%, Val Acc: 97.67%\n",
      "Epoch [2/5], Train Loss: 0.0501, Validation Loss: 0.0461, Train Acc: 98.44%, Val Acc: 98.41%\n",
      "Epoch [3/5], Train Loss: 0.0333, Validation Loss: 0.0467, Train Acc: 98.95%, Val Acc: 98.36%\n",
      "Epoch [4/5], Train Loss: 0.0248, Validation Loss: 0.0353, Train Acc: 99.21%, Val Acc: 98.87%\n",
      "Epoch [5/5], Train Loss: 0.0186, Validation Loss: 0.0349, Train Acc: 99.40%, Val Acc: 98.94%\n",
      "Test Accuracy: 98.98%\n"
     ]
    }
   ],
   "source": [
    "# Update the CNN architecture with the best number of channels c\n",
    "class UpdatedCNN(nn.Module):\n",
    "\n",
    "    def __init__(self):\n",
    "        super(UpdatedCNN, self).__init__()\n",
    "        self.conv1 = nn.Conv2d(1, 9, kernel_size=3, padding=1)\n",
    "        self.conv2 = nn.Conv2d(9, 64, kernel_size=3, padding=1)\n",
    "        self.conv3 = nn.Conv2d(64, 128, kernel_size=3, padding=1)\n",
    "        self.activation = nn.ReLU()\n",
    "        self.pool = nn.MaxPool2d(kernel_size=2, stride=2)\n",
    "        self.fc1 = nn.Linear(128 * 7 * 7, 512)\n",
    "        self.fc2 = nn.Linear(512, 10)\n",
    "    \n",
    "    def forward(self, x):\n",
    "        x = self.activation(self.conv1(x))\n",
    "        x = self.pool(x)\n",
    "        x = self.activation(self.conv2(x))\n",
    "        x = self.pool(x)\n",
    "        x = self.activation(self.conv3(x))\n",
    "    \n",
    "        # Change the shape of x into a 1d array\n",
    "        x = x.view(-1, 128 * 7 * 7)\n",
    "\n",
    "        # Pass the input through the full connected hidden layer, then apply activation\n",
    "        x = self.activation(self.fc1(x))\n",
    "        # Pass the input through the last layer\n",
    "        x = self.fc2(x)\n",
    "        \n",
    "        return x\n",
    "\n",
    "# run the model on the test set again:\n",
    "model = UpdatedCNN()\n",
    "\n",
    "# Define loss function and optimizer\n",
    "criterion = nn.CrossEntropyLoss()\n",
    "optimizer = optim.Adam(model.parameters(), lr=0.001)\n",
    "\n",
    "# Train the model with the updated architecture\n",
    "train_loss, val_loss, train_acc, val_acc = train_model(model, train_loader, val_loader, criterion, optimizer, epochs=5)\n",
    "\n",
    "# Evaluate the model on the test set\n",
    "model.eval()\n",
    "test_correct, test_total = 0, 0\n",
    "with torch.no_grad():\n",
    "    for images, labels in test_loader:\n",
    "        outputs = model(images)\n",
    "        _, predicted = torch.max(outputs.data, 1)\n",
    "        test_total += labels.size(0)\n",
    "        test_correct += (predicted == labels).sum().item()\n",
    "\n",
    "test_acc = 100 * test_correct / test_total\n",
    "print(f'Test Accuracy: {test_acc}%')"
   ]
  },
  {
   "cell_type": "markdown",
   "id": "6cc6dc3e",
   "metadata": {},
   "source": [
    "## Part 5: Visualizing feature extraction**\n",
    "1. Use the function `plot_mapped_features` to view an input image and the corresponding first channel of the hidden state for each feature-extraction layer (i.e., each convolution layer and each pooling layer).\n",
    "2. Update the function so that it shows all channels instead of just one.\n",
    "3. Comment on where you observe differences between the channels within a layer."
   ]
  },
  {
   "cell_type": "code",
   "execution_count": 7,
   "id": "5772c922-4df1-4972-b704-f3e3d70982fb",
   "metadata": {},
   "outputs": [
    {
     "name": "stderr",
     "output_type": "stream",
     "text": [
      "[W NNPACK.cpp:64] Could not initialize NNPACK! Reason: Unsupported hardware.\n"
     ]
    },
    {
     "data": {
      "image/png": "[encoded data removed]",
      "text/plain": [
       "<Figure size 1500x500 with 32 Axes>"
      ]
     },
     "metadata": {},
     "output_type": "display_data"
    },
    {
     "data": {
      "image/png": "[encoded data removed]",
      "text/plain": [
       "<Figure size 1500x500 with 32 Axes>"
      ]
     },
     "metadata": {},
     "output_type": "display_data"
    },
    {
     "data": {
      "image/png": "[encoded data removed]",
      "text/plain": [
       "<Figure size 1500x500 with 64 Axes>"
      ]
     },
     "metadata": {},
     "output_type": "display_data"
    },
    {
     "data": {
      "image/png": "[encoded data removed]",
      "text/plain": [
       "<Figure size 1500x500 with 64 Axes>"
      ]
     },
     "metadata": {},
     "output_type": "display_data"
    },
    {
     "data": {
      "image/png": "[encoded data removed]",
      "text/plain": [
       "<Figure size 1500x500 with 128 Axes>"
      ]
     },
     "metadata": {},
     "output_type": "display_data"
    },
    {
     "data": {
      "image/png": "[encoded data removed]",
      "text/plain": [
       "<Figure size 1500x500 with 128 Axes>"
      ]
     },
     "metadata": {},
     "output_type": "display_data"
    }
   ],
   "source": [
    "# Function to visualize the feature maps produced by different layers for a given image\n",
    "def plot_mapped_features(model, image, layers):\n",
    "\n",
    "    # Add a batch dimension to the image tensor (from (channels, height, width) to (1, channels, height, width))\n",
    "    x = image.unsqueeze(0)\n",
    "\n",
    "    # Iterate over the specified layers\n",
    "    for i, layer in enumerate(layers):\n",
    "        # Pass the image through the current layer\n",
    "        x = layer(x)\n",
    "        # number of channels in feature map\n",
    "        num_channels = x.size(1)\n",
    "\n",
    "        # Create a subplot with 1 row and len(layers) columns\n",
    "        fig, axes = plt.subplots(1, num_channels, figsize=(15, 5))\n",
    "\n",
    "        # Visualize the j-th channel of the feature map\n",
    "        for j in range(num_channels):\n",
    "            axes[j].imshow(x[0, 0].detach().cpu().numpy(), cmap='gray')\n",
    "            axes[j].axis('off')\n",
    "        fig.suptitle(f'Layer {i + 1} - {layer.__class__.__name__}')\n",
    "        plt.show()\n",
    "    \n",
    "\n",
    "examples = iter(test_loader)\n",
    "example_data, example_labels = next(examples) # get one batch from test set\n",
    "example_image = example_data[0]\n",
    "layers = [model.conv1, model.pool, model.conv2, model.pool, model.conv3, model.pool]\n",
    "plot_mapped_features(model, example_image, layers)"
   ]
  },
  {
   "cell_type": "markdown",
   "id": "7f45052b",
   "metadata": {},
   "source": [
    "## Part 6: Visualizing and interpreting filters\n",
    "1. Use the function `plot_filters` to view the trained filters of the first convolutional layer."
   ]
  },
  {
   "cell_type": "code",
   "execution_count": 8,
   "id": "5257f29e",
   "metadata": {},
   "outputs": [
    {
     "data": {
      "image/png": "[encoded data removed]",
      "text/plain": [
       "<Figure size 1000x300 with 6 Axes>"
      ]
     },
     "metadata": {},
     "output_type": "display_data"
    }
   ],
   "source": [
    "# Function to visualize the filters of a given convolutional layer\n",
    "def plot_filters(layer, n_filters=6):\n",
    "    \n",
    "    # Clone the weights of the convolutional layer to avoid modifying the original weights\n",
    "    filters = layer.weight.data.clone()\n",
    "    # Normalize the filter values to the range [0, 1] for better visualization\n",
    "    filters = filters - filters.min()\n",
    "    filters = filters / filters.max()\n",
    "    # Select the first n_filters to visualize\n",
    "    filters = filters[:n_filters]\n",
    "    # Create a subplot with 1 row and n_filters columns\n",
    "    fig, axes = plt.subplots(1, n_filters, figsize=(10,3))\n",
    "\n",
    "    # Iterate over the selected filters\n",
    "    for i, filter in enumerate(filters):\n",
    "        # Transpose the filter dimensions to (height, width, channels) for visualization\n",
    "        axes[i].imshow(np.transpose(filter, (1, 2, 0)), cmap='grey')\n",
    "        # Turn off the axis for a cleaner look\n",
    "        axes[i].axis('off')\n",
    "    # Display the filters\n",
    "    plt.suptitle('Filters of the First Convolutional Layer')\n",
    "    plt.show()\n",
    "\n",
    "layer = model.conv1\n",
    "plot_filters(layer, n_filters=6)"
   ]
  },
  {
   "cell_type": "markdown",
   "id": "815822d0",
   "metadata": {},
   "source": [
    "2. Identify the filters that perform blurring, sharpening, or horizontal or vertical edge detection.\n",
    "\n"
   ]
  },
  {
   "cell_type": "markdown",
   "id": "9bd5d852",
   "metadata": {},
   "source": [
    "## 7. Comparison to logistic regression\n",
    "1. Construct and run a pipeline for multiclass logistic regression of the MNIST dataset using sklearn."
   ]
  },
  {
   "cell_type": "code",
   "execution_count": 9,
   "id": "5293ac06",
   "metadata": {},
   "outputs": [
    {
     "name": "stdout",
     "output_type": "stream",
     "text": [
      "Logistic Regression Training Time: 25.192678928375244 seconds\n",
      "Logistic Regression Test Accuracy: 0.8357\n"
     ]
    }
   ],
   "source": [
    "from sklearn.linear_model import LogisticRegression\n",
    "from sklearn.metrics import accuracy_score\n",
    "\n",
    "def extract_data(loader):\n",
    "    images = []\n",
    "    labels = []\n",
    "    for batch in loader:\n",
    "        img, lbl = batch\n",
    "        images.append(img.view(img.size(0), -1).numpy())  # Flatten images\n",
    "        labels.append(lbl.numpy())\n",
    "    return np.concatenate(images), np.concatenate(labels)\n",
    "\n",
    "# Extract training and test data\n",
    "X_train, y_train = extract_data(train_loader)\n",
    "X_val, y_val = extract_data(val_loader)\n",
    "X_test, y_test = extract_data(test_loader)\n",
    "\n",
    "# Normalize the pixel values\n",
    "X_train = X_train / 255.0\n",
    "X_val = X_val / 255.0\n",
    "X_test = X_test / 255.0\n",
    "\n",
    "# Create and train the logistic regression model\n",
    "start_time = time.time()\n",
    "clf = LogisticRegression(max_iter=500, multi_class='auto', solver='lbfgs', n_jobs=-1)\n",
    "clf.fit(X_train, y_train)\n",
    "training_time = time.time() - start_time\n",
    "\n",
    "# Predict and evaluate the model\n",
    "y_pred = clf.predict(X_test)\n",
    "test_accuracy = accuracy_score(y_test, y_pred)\n",
    "\n",
    "print(f\"Logistic Regression Training Time: {training_time} seconds\")\n",
    "print(f\"Logistic Regression Test Accuracy: {test_accuracy}\")"
   ]
  },
  {
   "cell_type": "markdown",
   "id": "37bff129",
   "metadata": {},
   "source": [
    "2. Comment on how the training time and test accuracy of logistic regression compare to the CNN.\n",
    "\n",
    "The training time is significantly less for logistic regression, however the test accuracy is also much lower (0.83 as comapred to .98 for the neural network)\n",
    "\n",
    "3. Now run multiclass logistic regression on the MNIST data set using one of the hidden states of the CNN (i.e., $\\vec{x}^{(2)}$, $\\vec{x}^{(3)}$, ..., $\\vec{x}^{(7)}$) as inputs. "
   ]
  },
  {
   "cell_type": "code",
   "execution_count": 10,
   "id": "13e65c1a",
   "metadata": {},
   "outputs": [
    {
     "name": "stderr",
     "output_type": "stream",
     "text": [
      "/opt/anaconda3/lib/python3.11/site-packages/sklearn/linear_model/_sag.py:350: ConvergenceWarning: The max_iter was reached which means the coef_ did not converge\n",
      "  warnings.warn(\n"
     ]
    },
    {
     "name": "stdout",
     "output_type": "stream",
     "text": [
      "Logistic Regression Accuracy with x1_pooled: 0.9694\n"
     ]
    },
    {
     "name": "stderr",
     "output_type": "stream",
     "text": [
      "/opt/anaconda3/lib/python3.11/site-packages/sklearn/linear_model/_sag.py:350: ConvergenceWarning: The max_iter was reached which means the coef_ did not converge\n",
      "  warnings.warn(\n"
     ]
    },
    {
     "name": "stdout",
     "output_type": "stream",
     "text": [
      "Logistic Regression Accuracy with x2_pooled: 0.9825\n",
      "Logistic Regression Accuracy with x3_pooled: 0.98\n"
     ]
    },
    {
     "name": "stderr",
     "output_type": "stream",
     "text": [
      "/opt/anaconda3/lib/python3.11/site-packages/sklearn/linear_model/_sag.py:350: ConvergenceWarning: The max_iter was reached which means the coef_ did not converge\n",
      "  warnings.warn(\n"
     ]
    }
   ],
   "source": [
    "# Extract hidden states from CNN\n",
    "class CNNWithFeatureExtraction(nn.Module):\n",
    "    def __init__(self):\n",
    "        super(CNNWithFeatureExtraction, self).__init__()\n",
    "        self.conv1 = nn.Conv2d(1, 9, kernel_size=3, padding=1)\n",
    "        self.conv2 = nn.Conv2d(9, 64, kernel_size=3, padding=1)\n",
    "        self.conv3 = nn.Conv2d(64, 128, kernel_size=3, padding=1)\n",
    "        self.activation = nn.ReLU()\n",
    "        self.pool = nn.MaxPool2d(kernel_size=2, stride=2)\n",
    "\n",
    "    def forward(self, x):\n",
    "        x1 = self.activation(self.conv1(x))\n",
    "        x1_pooled = self.pool(x1)\n",
    "        x2 = self.activation(self.conv2(x1_pooled))\n",
    "        x2_pooled = self.pool(x2)\n",
    "        x3 = self.activation(self.conv3(x2_pooled))\n",
    "        x3_pooled = self.pool(x3)\n",
    "        \n",
    "        return x1_pooled, x2_pooled, x3_pooled\n",
    "    \n",
    "# Initialize the model\n",
    "model = CNNWithFeatureExtraction()\n",
    "\n",
    "from sklearn import preprocessing \n",
    "\n",
    "# function to iterate through data loader to pass images through CNN to extract feature maps\n",
    "def extract_features(loader, layer_idx):\n",
    "    features = []\n",
    "    labels = []\n",
    "    with torch.no_grad():\n",
    "        for images, lbls in loader:\n",
    "            x1_pooled, x2_pooled, x3_pooled = model(images)\n",
    "            # Choose the feature map based on layer_idx\n",
    "            if layer_idx == 1:\n",
    "                features.append(x1_pooled.view(x1_pooled.size(0), -1).numpy())\n",
    "            elif layer_idx == 2:\n",
    "                features.append(x2_pooled.view(x2_pooled.size(0), -1).numpy())\n",
    "            elif layer_idx == 3:\n",
    "                features.append(x3_pooled.view(x3_pooled.size(0), -1).numpy())\n",
    "            labels.append(lbls.numpy()) # store feature maps in list for regression later\n",
    "    return np.concatenate(features), np.concatenate(labels)\n",
    "\n",
    "# Train log. regression model\n",
    "def train_logistic_regression(X_train, y_train, X_test, y_test):\n",
    "    scalar = preprocessing.StandardScaler().fit(X_train)\n",
    "    X_train = scalar.transform(X_train)\n",
    "    X_test = scalar.transform(X_test)\n",
    "\n",
    "    clf = LogisticRegression(max_iter=300, penalty='l2', solver='saga', C=50)\n",
    "    clf.fit(X_train, y_train)\n",
    "    y_pred = clf.predict(X_test)\n",
    "\n",
    "    return accuracy_score(y_test, y_pred)\n",
    "\n",
    "# Extract features from different layers\n",
    "i = 1\n",
    "while i <= 3:\n",
    "    X_train, y_train = extract_features(train_loader, layer_idx = i)\n",
    "    X_test, y_test = extract_features(test_loader, layer_idx = i)\n",
    "\n",
    "    # Train logistic regression for different sets of features\n",
    "    log_reg_acc = train_logistic_regression(X_train, y_train, X_test, y_test)\n",
    "    print(f'Logistic Regression Accuracy with x{i}_pooled: {log_reg_acc}')\n",
    "\n",
    "    i += 1"
   ]
  },
  {
   "cell_type": "markdown",
   "id": "1d0ceace",
   "metadata": {},
   "source": [
    "Which set of inputs yields the best classification results?\n",
    "\n",
    "the second set of inputs, x2, yields the best classification result with an accuracy of .9825."
   ]
  }
 ],
 "metadata": {
  "kernelspec": {
   "display_name": "Python 3 (ipykernel)",
   "language": "python",
   "name": "python3"
  },
  "language_info": {
   "codemirror_mode": {
    "name": "ipython",
    "version": 3
   },
   "file_extension": ".py",
   "mimetype": "text/x-python",
   "name": "python",
   "nbconvert_exporter": "python",
   "pygments_lexer": "ipython3",
   "version": "3.11.7"
  }
 },
 "nbformat": 4,
 "nbformat_minor": 5
}
